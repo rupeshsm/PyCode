{
 "cells": [
  {
   "cell_type": "markdown",
   "metadata": {
    "deletable": true,
    "editable": true
   },
   "source": [
    "### Simple Linear Regression"
   ]
  },
  {
   "cell_type": "markdown",
   "metadata": {
    "deletable": true,
    "editable": true
   },
   "source": [
    "Simple Linear Regression considers creating a best-fit line through a relationship between an *independent continuous* variable with a *dependent continuous* non-deterministic variable. Let's consider a simple example in case of a Simple Linear Regression. We'll be using Edgar Anderson's ***iris*** data set."
   ]
  },
  {
   "cell_type": "code",
   "execution_count": 1,
   "metadata": {
    "collapsed": true,
    "deletable": true,
    "editable": true
   },
   "outputs": [],
   "source": [
    "import seaborn as sns"
   ]
  },
  {
   "cell_type": "code",
   "execution_count": 2,
   "metadata": {
    "collapsed": false,
    "deletable": true,
    "editable": true
   },
   "outputs": [
    {
     "data": {
      "text/html": [
       "<div>\n",
       "<table border=\"1\" class=\"dataframe\">\n",
       "  <thead>\n",
       "    <tr style=\"text-align: right;\">\n",
       "      <th></th>\n",
       "      <th>sepal_length</th>\n",
       "      <th>sepal_width</th>\n",
       "      <th>petal_length</th>\n",
       "      <th>petal_width</th>\n",
       "      <th>species</th>\n",
       "    </tr>\n",
       "  </thead>\n",
       "  <tbody>\n",
       "    <tr>\n",
       "      <th>0</th>\n",
       "      <td>5.1</td>\n",
       "      <td>3.5</td>\n",
       "      <td>1.4</td>\n",
       "      <td>0.2</td>\n",
       "      <td>setosa</td>\n",
       "    </tr>\n",
       "    <tr>\n",
       "      <th>87</th>\n",
       "      <td>6.3</td>\n",
       "      <td>2.3</td>\n",
       "      <td>4.4</td>\n",
       "      <td>1.3</td>\n",
       "      <td>versicolor</td>\n",
       "    </tr>\n",
       "    <tr>\n",
       "      <th>58</th>\n",
       "      <td>6.6</td>\n",
       "      <td>2.9</td>\n",
       "      <td>4.6</td>\n",
       "      <td>1.3</td>\n",
       "      <td>versicolor</td>\n",
       "    </tr>\n",
       "    <tr>\n",
       "      <th>92</th>\n",
       "      <td>5.8</td>\n",
       "      <td>2.6</td>\n",
       "      <td>4.0</td>\n",
       "      <td>1.2</td>\n",
       "      <td>versicolor</td>\n",
       "    </tr>\n",
       "    <tr>\n",
       "      <th>59</th>\n",
       "      <td>5.2</td>\n",
       "      <td>2.7</td>\n",
       "      <td>3.9</td>\n",
       "      <td>1.4</td>\n",
       "      <td>versicolor</td>\n",
       "    </tr>\n",
       "  </tbody>\n",
       "</table>\n",
       "</div>"
      ],
      "text/plain": [
       "    sepal_length  sepal_width  petal_length  petal_width     species\n",
       "0            5.1          3.5           1.4          0.2      setosa\n",
       "87           6.3          2.3           4.4          1.3  versicolor\n",
       "58           6.6          2.9           4.6          1.3  versicolor\n",
       "92           5.8          2.6           4.0          1.2  versicolor\n",
       "59           5.2          2.7           3.9          1.4  versicolor"
      ]
     },
     "execution_count": 2,
     "metadata": {},
     "output_type": "execute_result"
    }
   ],
   "source": [
    "iris     = sns.load_dataset('iris')\n",
    "nsamples = 5\n",
    "iris.sample(nsamples)"
   ]
  },
  {
   "cell_type": "markdown",
   "metadata": {
    "deletable": true,
    "editable": true
   },
   "source": [
    "We need to choose two variables for an intuitive analysis.\n",
    "1. An independent variable, also called as the **predictor** or **explanatory** variable. (We'll call them - features)\n",
    "2. A dependent variable, also called as the **response** or **outcome** variable. (We'll call them - targets)"
   ]
  },
  {
   "cell_type": "code",
   "execution_count": 3,
   "metadata": {
    "collapsed": true,
    "deletable": true,
    "editable": true
   },
   "outputs": [],
   "source": [
    "features, targets = 'petal_length', 'petal_width'"
   ]
  },
  {
   "cell_type": "code",
   "execution_count": 4,
   "metadata": {
    "collapsed": true,
    "deletable": true,
    "editable": true
   },
   "outputs": [],
   "source": [
    "x = iris[features]\n",
    "y = iris[targets]"
   ]
  },
  {
   "cell_type": "markdown",
   "metadata": {
    "deletable": true,
    "editable": true
   },
   "source": [
    "Assume that the only data we've recieved is just for our response variable. Let's go ahead and plot the same."
   ]
  },
  {
   "cell_type": "code",
   "execution_count": 5,
   "metadata": {
    "collapsed": false,
    "deletable": true,
    "editable": true
   },
   "outputs": [],
   "source": [
    "import matplotlib.pyplot as plt\n",
    "\n",
    "% matplotlib inline"
   ]
  },
  {
   "cell_type": "code",
   "execution_count": 6,
   "metadata": {
    "collapsed": false,
    "deletable": true,
    "editable": true
   },
   "outputs": [
    {
     "data": {
      "text/plain": [
       "<matplotlib.collections.PathCollection at 0x7f82e867d0b8>"
      ]
     },
     "execution_count": 6,
     "metadata": {},
     "output_type": "execute_result"
    },
    {
     "data": {
      "image/png": "[encoded data removed]",
      "text/plain": [
       "<matplotlib.figure.Figure at 0x7f8297b05320>"
      ]
     },
     "metadata": {},
     "output_type": "display_data"
    }
   ],
   "source": [
    "size   = (15, 10)\n",
    "figure = plt.figure(figsize = size)\n",
    "axes   = figure.add_subplot(111)\n",
    "axes.scatter(range(len(y)), y)"
   ]
  },
  {
   "cell_type": "markdown",
   "metadata": {
    "deletable": true,
    "editable": true
   },
   "source": [
    "For around 150 instances, we've recieved a plot as above. What would then be the most likely response for the above data set using only one variable? One best estimate is to see how far each data point is away from the actual center. We call this, the mean (or average) of the data set (given as $\\bar{x}$) and is formulated as\n",
    "\n",
    "$$\\bar{x} = \\frac{1}{n} \\sum_{i = 1}^{n} x_{i}$$\n",
    "\n",
    "where $x$ is your variable with $n$ samples.\n",
    "\n",
    "Let's find out the mean of our response variable."
   ]
  },
  {
   "cell_type": "code",
   "execution_count": 7,
   "metadata": {
    "collapsed": true,
    "deletable": true,
    "editable": true
   },
   "outputs": [],
   "source": [
    "import numpy as np"
   ]
  },
  {
   "cell_type": "code",
   "execution_count": 8,
   "metadata": {
    "collapsed": false,
    "deletable": true,
    "editable": true
   },
   "outputs": [
    {
     "data": {
      "text/plain": [
       "1.1993333333333336"
      ]
     },
     "execution_count": 8,
     "metadata": {},
     "output_type": "execute_result"
    }
   ],
   "source": [
    "mean = np.mean(y)\n",
    "mean"
   ]
  },
  {
   "cell_type": "markdown",
   "metadata": {
    "deletable": true,
    "editable": true
   },
   "source": [
    "Hence, our best-fit line in this case would be $y = \\bar{y}$. We can go ahead and plot the same as follows"
   ]
  },
  {
   "cell_type": "code",
   "execution_count": 9,
   "metadata": {
    "collapsed": false,
    "deletable": true,
    "editable": true
   },
   "outputs": [
    {
     "data": {
      "image/png": "[encoded data removed]",
      "text/plain": [
       "<matplotlib.figure.Figure at 0x7f8297b05320>"
      ]
     },
     "execution_count": 9,
     "metadata": {},
     "output_type": "execute_result"
    }
   ],
   "source": [
    "axes.axhline(mean, linestyle = '--')\n",
    "figure"
   ]
  },
  {
   "cell_type": "markdown",
   "metadata": {
    "deletable": true,
    "editable": true
   },
   "source": [
    "A good way to find out how far each of our data point is from this line is to calculate the distance of each point from our supposedly best-fit line. We call these **residual** or **error** which can be formulated as follows\n",
    "\n",
    "$$e_{i} = y_{i} - \\hat{y_{i}}$$\n",
    "\n",
    "where $e_{i}$ is the error for the $i^{th}$ value of our response variable vs our actual estimation (give as $\\hat{y_{i}}$) from our best-fit line.\n",
    "\n",
    "We can calculate the residuals and its square as follows"
   ]
  },
  {
   "cell_type": "code",
   "execution_count": 10,
   "metadata": {
    "collapsed": false,
    "deletable": true,
    "editable": true
   },
   "outputs": [],
   "source": [
    "import pandas as pd"
   ]
  },
  {
   "cell_type": "code",
   "execution_count": 11,
   "metadata": {
    "collapsed": false,
    "deletable": true,
    "editable": true
   },
   "outputs": [
    {
     "data": {
      "text/html": [
       "<div>\n",
       "<table border=\"1\" class=\"dataframe\">\n",
       "  <thead>\n",
       "    <tr style=\"text-align: right;\">\n",
       "      <th></th>\n",
       "      <th>$y_{i}$</th>\n",
       "      <th>$e_{i}$</th>\n",
       "      <th>$e_{i}^{2}$</th>\n",
       "    </tr>\n",
       "  </thead>\n",
       "  <tbody>\n",
       "    <tr>\n",
       "      <th>71</th>\n",
       "      <td>1.3</td>\n",
       "      <td>0.100667</td>\n",
       "      <td>0.010134</td>\n",
       "    </tr>\n",
       "    <tr>\n",
       "      <th>84</th>\n",
       "      <td>1.5</td>\n",
       "      <td>0.300667</td>\n",
       "      <td>0.090400</td>\n",
       "    </tr>\n",
       "    <tr>\n",
       "      <th>140</th>\n",
       "      <td>2.4</td>\n",
       "      <td>1.200667</td>\n",
       "      <td>1.441600</td>\n",
       "    </tr>\n",
       "    <tr>\n",
       "      <th>14</th>\n",
       "      <td>0.2</td>\n",
       "      <td>-0.999333</td>\n",
       "      <td>0.998667</td>\n",
       "    </tr>\n",
       "    <tr>\n",
       "      <th>136</th>\n",
       "      <td>2.4</td>\n",
       "      <td>1.200667</td>\n",
       "      <td>1.441600</td>\n",
       "    </tr>\n",
       "    <tr>\n",
       "      <th>119</th>\n",
       "      <td>1.5</td>\n",
       "      <td>0.300667</td>\n",
       "      <td>0.090400</td>\n",
       "    </tr>\n",
       "    <tr>\n",
       "      <th>138</th>\n",
       "      <td>1.8</td>\n",
       "      <td>0.600667</td>\n",
       "      <td>0.360800</td>\n",
       "    </tr>\n",
       "    <tr>\n",
       "      <th>23</th>\n",
       "      <td>0.5</td>\n",
       "      <td>-0.699333</td>\n",
       "      <td>0.489067</td>\n",
       "    </tr>\n",
       "    <tr>\n",
       "      <th>40</th>\n",
       "      <td>0.3</td>\n",
       "      <td>-0.899333</td>\n",
       "      <td>0.808800</td>\n",
       "    </tr>\n",
       "    <tr>\n",
       "      <th>24</th>\n",
       "      <td>0.2</td>\n",
       "      <td>-0.999333</td>\n",
       "      <td>0.998667</td>\n",
       "    </tr>\n",
       "  </tbody>\n",
       "</table>\n",
       "</div>"
      ],
      "text/plain": [
       "     $y_{i}$   $e_{i}$  $e_{i}^{2}$\n",
       "71       1.3  0.100667     0.010134\n",
       "84       1.5  0.300667     0.090400\n",
       "140      2.4  1.200667     1.441600\n",
       "14       0.2 -0.999333     0.998667\n",
       "136      2.4  1.200667     1.441600\n",
       "119      1.5  0.300667     0.090400\n",
       "138      1.8  0.600667     0.360800\n",
       "23       0.5 -0.699333     0.489067\n",
       "40       0.3 -0.899333     0.808800\n",
       "24       0.2 -0.999333     0.998667"
      ]
     },
     "execution_count": 11,
     "metadata": {},
     "output_type": "execute_result"
    }
   ],
   "source": [
    "columns = ['$y_{i}$', '$e_{i}$', '$e_{i}^{2}$']\n",
    "err     = y - mean\n",
    "serr    = np.power(err, 2)\n",
    "\n",
    "rows    = np.transpose(np.vstack((y, err, serr)))\n",
    "error   = pd.DataFrame(columns = columns, data = rows)\n",
    "error.sample(10)"
   ]
  },
  {
   "cell_type": "markdown",
   "metadata": {
    "deletable": true,
    "editable": true
   },
   "source": [
    "But why do we square our errors?\n",
    "1. to avoid negative feedback of errors\n",
    "2. to emphasize on larger deviations"
   ]
  },
  {
   "cell_type": "markdown",
   "metadata": {
    "deletable": true,
    "editable": true
   },
   "source": [
    "#### SSE (Sum of Squared Errors)\n",
    "$$SSE = \\sum_{i = 1}^{n} (y_{i} - \\hat{y_{i}})^{2}$$\n",
    "\n",
    "We can calculate the same as follows "
   ]
  },
  {
   "cell_type": "code",
   "execution_count": 12,
   "metadata": {
    "collapsed": true,
    "deletable": true,
    "editable": true
   },
   "outputs": [],
   "source": [
    "def sse(a, b):\n",
    "    return np.sum(np.power(a - b, 2))"
   ]
  },
  {
   "cell_type": "code",
   "execution_count": 13,
   "metadata": {
    "collapsed": false,
    "deletable": true,
    "editable": true
   },
   "outputs": [
    {
     "data": {
      "text/plain": [
       "86.569933333333324"
      ]
     },
     "execution_count": 13,
     "metadata": {},
     "output_type": "execute_result"
    }
   ],
   "source": [
    "e = np.sum(error[error.columns[2]])\n",
    "e"
   ]
  },
  {
   "cell_type": "markdown",
   "metadata": {
    "deletable": true,
    "editable": true
   },
   "source": [
    "Naturally, our job is to minimize SSE subjected to $\\hat{y}$.\n",
    "\n",
    "$$\\min{SSE}$$\n",
    "\n",
    "But if we now were to introduce our independent or predictor variable, there is a chance that this variable *\"eats up\"* some of our SSE, meaning our line could fit the data better. Our job lies not only to minimize our errors, but also choose the most appropriate independent variable that could minimize our SSE."
   ]
  },
  {
   "cell_type": "markdown",
   "metadata": {
    "deletable": true,
    "editable": true
   },
   "source": [
    "#### Lines\n",
    "A 2-dimensional equation of a line can be given as\n",
    "$$y = mx + c$$\n",
    "\n",
    "where $m = \\frac{rise}{run}$ (or slope) and $c$ is the y-intercept (where $x = 0$) of our line. A nice intuition to these values associated with our random variable $x$ is to consider $m$ to be the orientation of our line, while $c$ to be its position.\n",
    "\n",
    "Knowing this, we can now formulate our **model for estimation** (Simple Linear Regression) as follows\n",
    "$$y = \\theta_{0} + \\theta_{1}x + \\epsilon$$\n",
    "\n",
    "where $\\theta_{0}$ is the y-intercept, $\\theta_{1}$ is the slope and $\\epsilon$ is some unknown variation (error) in $y$."
   ]
  },
  {
   "cell_type": "markdown",
   "metadata": {
    "deletable": true,
    "editable": true
   },
   "source": [
    "#### Outcome $\\hat{y}$"
   ]
  },
  {
   "cell_type": "markdown",
   "metadata": {
    "deletable": true,
    "editable": true
   },
   "source": [
    "Our outcome $\\hat{y}$ from our regression model isn't just another point, rather it's the ***mean of the normal distribution of $y$s*** for a given x.\n",
    "\n",
    "Hence,\n",
    "$$E(y) = \\theta_{0} + \\theta_{1}x$$\n",
    "\n",
    "where $E(y)$ is the expected value of $y$ (i.e., our value of $\\hat{y}$), in this case - the mean from a normal distribution of $y$s. Naturally in case of our regression model, our distribution should be narrower for a better estimation.\n",
    "\n",
    "Let's postulate the above equation in code"
   ]
  },
  {
   "cell_type": "code",
   "execution_count": 14,
   "metadata": {
    "collapsed": true,
    "deletable": true,
    "editable": true
   },
   "outputs": [],
   "source": [
    "def predict(x, m, c):\n",
    "    return c + m * x"
   ]
  },
  {
   "cell_type": "markdown",
   "metadata": {
    "deletable": true,
    "editable": true
   },
   "source": [
    "We can now introduce our independent predictor variable $x$. Let's go ahead and plot the same."
   ]
  },
  {
   "cell_type": "code",
   "execution_count": 15,
   "metadata": {
    "collapsed": false,
    "deletable": true,
    "editable": true
   },
   "outputs": [
    {
     "data": {
      "text/plain": [
       "<matplotlib.collections.PathCollection at 0x7f82959f6e10>"
      ]
     },
     "execution_count": 15,
     "metadata": {},
     "output_type": "execute_result"
    },
    {
     "data": {
      "image/png": "[encoded data removed]",
      "text/plain": [
       "<matplotlib.figure.Figure at 0x7f829575b978>"
      ]
     },
     "metadata": {},
     "output_type": "display_data"
    }
   ],
   "source": [
    "size   = (15, 10)\n",
    "figure = plt.figure(figsize = size)\n",
    "axes   = figure.add_subplot(111)\n",
    "\n",
    "axes.set_xlabel(features)\n",
    "axes.set_ylabel(targets)\n",
    "axes.scatter(x, y)"
   ]
  },
  {
   "cell_type": "markdown",
   "metadata": {
    "deletable": true,
    "editable": true
   },
   "source": [
    "Our initial question should be, ***whether our data is linear?*** A good way to estimate the degree of linearity on a scale of $[-1, 1]$ is **Karl Pearson's coefficient of correlation**, usually denoted by $r$ and is forumated as\n",
    "\n",
    "$$r = \\frac{\\sum_{i = 1}^{n} (x_{i} - \\bar{x_{i}})(y_{i} - \\bar{y_{i}})}{\\sqrt{\\sum_{i = 1}{n} (x_{i} - \\bar{x_{i}})^{2}}\n",
    "\\sqrt{\\sum_{i = 1}{n} (y_{i} - \\bar{y_{i}})^{2}}}$$\n",
    "\n",
    "Here, $-1$ indicates an absolute negative linearity, $0$ indicates no linearity whereas $+1$ indicates an absolute positive linearity."
   ]
  },
  {
   "cell_type": "code",
   "execution_count": 16,
   "metadata": {
    "collapsed": true,
    "deletable": true,
    "editable": true
   },
   "outputs": [],
   "source": [
    "from scipy.stats import pearsonr"
   ]
  },
  {
   "cell_type": "code",
   "execution_count": 17,
   "metadata": {
    "collapsed": false,
    "deletable": true,
    "editable": true
   },
   "outputs": [
    {
     "data": {
      "text/plain": [
       "0.96286543140279612"
      ]
     },
     "execution_count": 17,
     "metadata": {},
     "output_type": "execute_result"
    }
   ],
   "source": [
    "r, p = pearsonr(x, y)\n",
    "r"
   ]
  },
  {
   "cell_type": "markdown",
   "metadata": {
    "deletable": true,
    "editable": true
   },
   "source": [
    "Our data set has around 96.28 % correlation between each other, which seems fair enough to go ahead with Linear Regression."
   ]
  },
  {
   "cell_type": "markdown",
   "metadata": {
    "deletable": true,
    "editable": true
   },
   "source": [
    "#### Centroid"
   ]
  },
  {
   "cell_type": "markdown",
   "metadata": {
    "deletable": true,
    "editable": true
   },
   "source": [
    "Our data set denotes a measure of centerness through a point called as the centriod which is denoted by $(\\bar{x}, \\bar{y})$. We can compute the same as follows"
   ]
  },
  {
   "cell_type": "code",
   "execution_count": 18,
   "metadata": {
    "collapsed": false,
    "deletable": true,
    "editable": true
   },
   "outputs": [
    {
     "data": {
      "text/plain": [
       "(3.7580000000000005, 1.1993333333333336)"
      ]
     },
     "execution_count": 18,
     "metadata": {},
     "output_type": "execute_result"
    }
   ],
   "source": [
    "xmean    = np.mean(x)\n",
    "ymean    = np.mean(y)\n",
    "centroid = xmean, ymean\n",
    "\n",
    "centroid"
   ]
  },
  {
   "cell_type": "markdown",
   "metadata": {
    "deletable": true,
    "editable": true
   },
   "source": [
    "Let's plot our centroid on our graph."
   ]
  },
  {
   "cell_type": "code",
   "execution_count": 19,
   "metadata": {
    "collapsed": false,
    "deletable": true,
    "editable": true
   },
   "outputs": [
    {
     "data": {
      "image/png": "[encoded data removed]",
      "text/plain": [
       "<matplotlib.figure.Figure at 0x7f829575b978>"
      ]
     },
     "execution_count": 19,
     "metadata": {},
     "output_type": "execute_result"
    }
   ],
   "source": [
    "axes.plot(xmean, ymean, color = 'r', marker = 'o')\n",
    "figure"
   ]
  },
  {
   "cell_type": "markdown",
   "metadata": {
    "deletable": true,
    "editable": true
   },
   "source": [
    "**Our line generated by our simple linear regression model must pass through the centriod of our data set.**"
   ]
  },
  {
   "cell_type": "markdown",
   "metadata": {
    "deletable": true,
    "editable": true
   },
   "source": [
    "Consider a random $\\theta_{0}$ and $\\theta_{1}$."
   ]
  },
  {
   "cell_type": "code",
   "execution_count": 20,
   "metadata": {
    "collapsed": false,
    "deletable": true,
    "editable": true
   },
   "outputs": [
    {
     "data": {
      "text/plain": [
       "(0.99507873683718351, 0.96490331984094968)"
      ]
     },
     "execution_count": 20,
     "metadata": {},
     "output_type": "execute_result"
    }
   ],
   "source": [
    "m, c = np.random.rand(2)\n",
    "m, c"
   ]
  },
  {
   "cell_type": "markdown",
   "metadata": {
    "deletable": true,
    "editable": true
   },
   "source": [
    "Let's go ahead and plot our line and check whether it fits our data well."
   ]
  },
  {
   "cell_type": "code",
   "execution_count": 21,
   "metadata": {
    "collapsed": false,
    "deletable": true,
    "editable": true
   },
   "outputs": [
    {
     "data": {
      "image/png": "[encoded data removed]",
      "text/plain": [
       "<matplotlib.figure.Figure at 0x7f829575b978>"
      ]
     },
     "execution_count": 21,
     "metadata": {},
     "output_type": "execute_result"
    }
   ],
   "source": [
    "p = predict(x, m, c)\n",
    "\n",
    "axes.plot(x, p)\n",
    "figure"
   ]
  },
  {
   "cell_type": "markdown",
   "metadata": {
    "deletable": true,
    "editable": true
   },
   "source": [
    "Our line is no where near our data set or centroid. In order to estimate how far we are from our best-fit line, we could calculate it's $SSE$ as follows"
   ]
  },
  {
   "cell_type": "code",
   "execution_count": 22,
   "metadata": {
    "collapsed": false,
    "deletable": true,
    "editable": true
   },
   "outputs": [
    {
     "data": {
      "text/plain": [
       "2004.9784403489803"
      ]
     },
     "execution_count": 22,
     "metadata": {},
     "output_type": "execute_result"
    }
   ],
   "source": [
    "e = sse(y, p)\n",
    "e"
   ]
  },
  {
   "cell_type": "markdown",
   "metadata": {
    "deletable": true,
    "editable": true
   },
   "source": [
    "Let's minimize our error and plot our line now"
   ]
  },
  {
   "cell_type": "code",
   "execution_count": 23,
   "metadata": {
    "collapsed": false,
    "deletable": true,
    "editable": true
   },
   "outputs": [],
   "source": [
    "from sklearn.linear_model import LinearRegression"
   ]
  },
  {
   "cell_type": "code",
   "execution_count": 24,
   "metadata": {
    "collapsed": false,
    "deletable": true,
    "editable": true
   },
   "outputs": [
    {
     "data": {
      "text/plain": [
       "(0.41575541635241153, -0.36307552131902909)"
      ]
     },
     "execution_count": 24,
     "metadata": {},
     "output_type": "execute_result"
    }
   ],
   "source": [
    "model = LinearRegression()\n",
    "model.fit(x.values.reshape((len(x), 1)), y.values.reshape((len(y), 1)))\n",
    "\n",
    "c     = model.intercept_[0]\n",
    "m     = model.coef_[0,0]\n",
    "\n",
    "m, c"
   ]
  },
  {
   "cell_type": "code",
   "execution_count": 25,
   "metadata": {
    "collapsed": false,
    "deletable": true,
    "editable": true
   },
   "outputs": [
    {
     "data": {
      "image/png": "[encoded data removed]",
      "text/plain": [
       "<matplotlib.figure.Figure at 0x7f829575b978>"
      ]
     },
     "execution_count": 25,
     "metadata": {},
     "output_type": "execute_result"
    }
   ],
   "source": [
    "p = predict(x, m, c)\n",
    "\n",
    "axes.plot(x, p)\n",
    "figure"
   ]
  },
  {
   "cell_type": "markdown",
   "metadata": {
    "deletable": true,
    "editable": true
   },
   "source": [
    "Our line fits the centriod well. Let's check our minimized error"
   ]
  },
  {
   "cell_type": "code",
   "execution_count": 26,
   "metadata": {
    "collapsed": false,
    "deletable": true,
    "editable": true
   },
   "outputs": [
    {
     "data": {
      "text/plain": [
       "6.3100963792489768"
      ]
     },
     "execution_count": 26,
     "metadata": {},
     "output_type": "execute_result"
    }
   ],
   "source": [
    "e = sse(y, p)\n",
    "e"
   ]
  }
 ],
 "metadata": {
  "kernelspec": {
   "display_name": "Python 3",
   "language": "python",
   "name": "python3"
  },
  "language_info": {
   "codemirror_mode": {
    "name": "ipython",
    "version": 3
   },
   "file_extension": ".py",
   "mimetype": "text/x-python",
   "name": "python",
   "nbconvert_exporter": "python",
   "pygments_lexer": "ipython3",
   "version": "3.5.2"
  }
 },
 "nbformat": 4,
 "nbformat_minor": 2
}
