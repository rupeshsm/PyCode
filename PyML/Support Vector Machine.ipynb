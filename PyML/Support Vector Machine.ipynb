{
 "cells": [
  {
   "cell_type": "markdown",
   "metadata": {},
   "source": [
    "### Support Vector Machine (SVM)"
   ]
  },
  {
   "cell_type": "markdown",
   "metadata": {},
   "source": [
    "In a nutshell, a Support Vector Machine distinguishes between classes by drawing a boundary (we call this, a hyperplane) such that the distance between any class with this boundary has been maximized. In a 2-dimensional space, this boundary is a linear line, whereas in case of 3-dimensional space, this boundary is said to be a plane.\n",
    "\n",
    "Hence, in an $n$-dimensional space, this boundary is said to be a ***hyperplane***.\n",
    "\n",
    "$$Y = W^{T}X + B$$\n",
    "\n",
    "where $W$ (weight) is the slope of the hyperplane (or the orientation) whereas $B$ (bias) denotes the intercept (or position) of the hyperplane.\n",
    "\n",
    "Let's assume that given an $X_{1}$ which lies on the hyperplane, the above equation would then be\n",
    "\n",
    "$$0 = W^{T}X_{1} + B$$\n",
    "\n",
    "Similarly, if $X_{1}$ were to be on the negative half of the hyperplane, then the inequality would be\n",
    "\n",
    "$$0 < W^{T}X_{1} + B$$\n",
    "\n",
    "And finally, in case of $X_{1}$ being on the positive half of the hyperplane, the inequality would have resulted as follows\n",
    "\n",
    "$$0 > W^{T}X_{1} + B$$\n",
    "\n",
    "Hence, if $X_{1}$ ends up at the (towards) negative side of the hyperplane, the corresponding class (say $C_{1}$) could be entitiled for $X_{1}$. Similarly, if $X_{1}$ were to end up at the (towards) positive side of the hyperplane, the corresponding class (say $C_{2}$) can be designated for $X_{1}$."
   ]
  },
  {
   "cell_type": "markdown",
   "metadata": {},
   "source": [
    "In order to maximize our margin, our $Y$ shouldn't be anywhere near $0$ (our boundary) in order to be deemed as a given class. Instead it should aim to land as far away from the hyperplane. Let's assume that the ideal margin required is $\\gamma$. Then the above equation could be re-written in case of a Support Vector Machine as\n",
    "\n",
    "$$\\gamma < W^{T}X_{1} + B$$\n",
    "\n",
    "where $\\gamma$ is our desired margin (away from each class)."
   ]
  },
  {
   "cell_type": "markdown",
   "metadata": {},
   "source": [
    "### Data Set"
   ]
  },
  {
   "cell_type": "markdown",
   "metadata": {},
   "source": [
    "Inspired by the MNIST database, I've gotten hold of a similar handwritten-character database for Devanagari characters. We'll be focusing on classifying Devanagari digits."
   ]
  },
  {
   "cell_type": "markdown",
   "metadata": {},
   "source": [
    "### References\n",
    "1. Acharya, Shailesh, Ashok Kumar Pant, and Prashnna Kumar Gyawali. \"Deep learning based large scale handwritten Devanagari character recognition.\" 2015 9th International Conference on Software, Knowledge, Information Management and Applications (SKIMA) (2015)"
   ]
  }
 ],
 "metadata": {
  "kernelspec": {
   "display_name": "Python 3",
   "language": "python",
   "name": "python3"
  },
  "language_info": {
   "codemirror_mode": {
    "name": "ipython",
    "version": 3
   },
   "file_extension": ".py",
   "mimetype": "text/x-python",
   "name": "python",
   "nbconvert_exporter": "python",
   "pygments_lexer": "ipython3",
   "version": "3.5.2"
  }
 },
 "nbformat": 4,
 "nbformat_minor": 2
}
